{
 "cells": [
  {
   "cell_type": "code",
   "execution_count": 1,
   "id": "1f7eeace",
   "metadata": {},
   "outputs": [
    {
     "data": {
      "text/html": [
       "<table border=\"1\" class=\"dataframe\">\n",
       "  <thead>\n",
       "    <tr style=\"text-align: left;\">\n",
       "      <th>epoch</th>\n",
       "      <th>train_loss</th>\n",
       "      <th>valid_loss</th>\n",
       "      <th>accuracy</th>\n",
       "      <th>time</th>\n",
       "    </tr>\n",
       "  </thead>\n",
       "  <tbody>\n",
       "    <tr>\n",
       "      <td>0</td>\n",
       "      <td>0.392356</td>\n",
       "      <td>0.357146</td>\n",
       "      <td>0.835842</td>\n",
       "      <td>00:02</td>\n",
       "    </tr>\n",
       "    <tr>\n",
       "      <td>1</td>\n",
       "      <td>0.371709</td>\n",
       "      <td>0.351319</td>\n",
       "      <td>0.834459</td>\n",
       "      <td>00:02</td>\n",
       "    </tr>\n",
       "    <tr>\n",
       "      <td>2</td>\n",
       "      <td>0.363077</td>\n",
       "      <td>0.347286</td>\n",
       "      <td>0.836149</td>\n",
       "      <td>00:02</td>\n",
       "    </tr>\n",
       "  </tbody>\n",
       "</table>"
      ],
      "text/plain": [
       "<IPython.core.display.HTML object>"
      ]
     },
     "metadata": {},
     "output_type": "display_data"
    }
   ],
   "source": [
    "from fastai.tabular.all import *\n",
    "\n",
    "path = untar_data(URLs.ADULT_SAMPLE)\n",
    "\n",
    "dls = TabularDataLoaders.from_csv(path/'adult.csv', path=path, y_names='salary',\n",
    "            cat_names = ['workclass', 'education', 'marital-status', 'occupation',\n",
    "                        'relationship', 'race'],\n",
    "            cont_names= ['age', 'fnlwgt', 'education-num'],\n",
    "            procs= [Categorify, FillMissing, Normalize]\n",
    ")\n",
    "\n",
    "learn = tabular_learner(  dls, metrics=accuracy  )\n",
    "\n",
    "learn.fit_one_cycle(3)     ## no transfer learning here, just learn from scratch "
   ]
  },
  {
   "cell_type": "code",
   "execution_count": null,
   "id": "596aaa56",
   "metadata": {},
   "outputs": [],
   "source": []
  }
 ],
 "metadata": {
  "kernelspec": {
   "display_name": "Python 3 (ipykernel)",
   "language": "python",
   "name": "python3"
  },
  "language_info": {
   "codemirror_mode": {
    "name": "ipython",
    "version": 3
   },
   "file_extension": ".py",
   "mimetype": "text/x-python",
   "name": "python",
   "nbconvert_exporter": "python",
   "pygments_lexer": "ipython3",
   "version": "3.7.11"
  }
 },
 "nbformat": 4,
 "nbformat_minor": 5
}

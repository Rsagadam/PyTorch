{
 "cells": [
  {
   "cell_type": "code",
   "execution_count": 21,
   "id": "6bc13151",
   "metadata": {},
   "outputs": [],
   "source": [
    "import torch\n",
    "import numpy as np\n",
    "\n",
    "import matplotlib.pyplot as plt\n",
    "\n",
    "import torch.optim as optim\n",
    "import torch.nn as nn\n"
   ]
  },
  {
   "cell_type": "code",
   "execution_count": 22,
   "id": "0cec9681",
   "metadata": {},
   "outputs": [
    {
     "name": "stdout",
     "output_type": "stream",
     "text": [
      "torch.Size([11])\n",
      "torch.Size([11])\n",
      "torch.Size([11, 1])\n",
      "torch.Size([11, 1])\n"
     ]
    }
   ],
   "source": [
    "## inputs\n",
    "t_c = [0.5,  14.0, 15.0, 28.0, 11.0,  8.0,  3.0, -4.0,  6.0, 13.0, 21.0]\n",
    "\n",
    "## outputs\n",
    "t_u = [35.7, 55.9, 58.2, 81.9, 56.3, 48.9, 33.9, 21.8, 48.4, 60.4, 68.4]\n",
    "\n",
    "\n",
    "t_c = torch.tensor(   t_c   )\n",
    "t_u = torch.tensor(   t_u   )\n",
    "\n",
    "print(t_u.shape)\n",
    "print(t_c.shape)\n",
    "\n",
    "\n",
    "t_c = t_c.unsqueeze(1)\n",
    "t_u = t_u.unsqueeze(1)\n",
    "\n",
    "print(t_u.shape)\n",
    "print(t_c.shape)\n"
   ]
  },
  {
   "cell_type": "markdown",
   "id": "9878662f",
   "metadata": {},
   "source": [
    "## Splitting the data"
   ]
  },
  {
   "cell_type": "code",
   "execution_count": 23,
   "id": "b3de43b0",
   "metadata": {},
   "outputs": [
    {
     "data": {
      "text/plain": [
       "11"
      ]
     },
     "execution_count": 23,
     "metadata": {},
     "output_type": "execute_result"
    }
   ],
   "source": [
    "n_samples = t_u.shape[0]\n",
    "n_samples"
   ]
  },
  {
   "cell_type": "code",
   "execution_count": 24,
   "id": "9570bad1",
   "metadata": {},
   "outputs": [
    {
     "data": {
      "text/plain": [
       "3"
      ]
     },
     "execution_count": 24,
     "metadata": {},
     "output_type": "execute_result"
    }
   ],
   "source": [
    "n_val = int(  0.3 * n_samples  )\n",
    "n_val"
   ]
  },
  {
   "cell_type": "code",
   "execution_count": 25,
   "id": "93763e5e",
   "metadata": {},
   "outputs": [
    {
     "data": {
      "text/plain": [
       "tensor([ 7,  2,  9, 10,  5,  8,  1,  0,  6,  3,  4])"
      ]
     },
     "execution_count": 25,
     "metadata": {},
     "output_type": "execute_result"
    }
   ],
   "source": [
    "shuffled_indeces = torch.randperm(  n_samples   )\n",
    "shuffled_indeces "
   ]
  },
  {
   "cell_type": "code",
   "execution_count": 26,
   "id": "8e39bb1f",
   "metadata": {},
   "outputs": [
    {
     "name": "stdout",
     "output_type": "stream",
     "text": [
      "tensor([ 7,  2,  9, 10,  5,  8,  1,  0])\n"
     ]
    }
   ],
   "source": [
    "train_indeces =  shuffled_indeces[:-n_val]\n",
    "val_indeces   = shuffled_indeces[-n_val:]\n",
    "print(train_indeces)"
   ]
  },
  {
   "cell_type": "code",
   "execution_count": 27,
   "id": "8dc2f18c",
   "metadata": {},
   "outputs": [
    {
     "name": "stdout",
     "output_type": "stream",
     "text": [
      "tensor([6, 3, 4])\n"
     ]
    }
   ],
   "source": [
    "print(val_indeces)"
   ]
  },
  {
   "cell_type": "code",
   "execution_count": 28,
   "id": "cc50dd27",
   "metadata": {},
   "outputs": [],
   "source": [
    "train_t_u = t_u[train_indeces]\n",
    "train_t_c = t_c[train_indeces]"
   ]
  },
  {
   "cell_type": "code",
   "execution_count": 29,
   "id": "375295fe",
   "metadata": {},
   "outputs": [],
   "source": [
    "val_t_u = t_u[val_indeces]\n",
    "val_t_c = t_c[val_indeces]"
   ]
  },
  {
   "cell_type": "markdown",
   "id": "aa64a712",
   "metadata": {},
   "source": [
    "## Training loop"
   ]
  },
  {
   "cell_type": "code",
   "execution_count": 35,
   "id": "a2d51acb",
   "metadata": {},
   "outputs": [],
   "source": [
    "\n",
    "def training_loop(n_epochs, optimizer, model, loss_fn, train_t_u, val_t_u, train_t_c, val_t_c):\n",
    "    \n",
    "    for epoch in range(1, n_epochs):\n",
    "        \n",
    "        train_t_p  = model(train_t_u)\n",
    "        train_loss = loss_fn(train_t_p, train_t_c)\n",
    "        \n",
    "        val_t_p = model(val_t_u)\n",
    "        val_loss = loss_fn(val_t_p, val_t_c)\n",
    "        \n",
    "        optimizer.zero_grad()\n",
    "        train_loss.backward()\n",
    "        optimizer.step()\n",
    "        \n",
    "        \n",
    "        if epoch % 500 == 0:\n",
    "            print(\"train loss: \", train_loss.item())\n",
    "            print(\"val loss: \",   val_loss.item())\n",
    "        \n",
    "    \n"
   ]
  },
  {
   "cell_type": "markdown",
   "id": "fa2942f6",
   "metadata": {},
   "source": [
    "## Architecture"
   ]
  },
  {
   "cell_type": "code",
   "execution_count": 36,
   "id": "01142ed2",
   "metadata": {},
   "outputs": [],
   "source": [
    "\n",
    "def model_fn_linear():\n",
    "    \n",
    "    return nn.Linear(1, 1)\n"
   ]
  },
  {
   "cell_type": "code",
   "execution_count": 37,
   "id": "d6dc4ad3",
   "metadata": {},
   "outputs": [],
   "source": [
    "## MLP\n",
    "\n",
    "def model_fn_nn_1hidden():\n",
    "    \n",
    "    seq_model = nn.Sequential(\n",
    "         nn.Linear(1 , 13),\n",
    "         nn.Tanh(),\n",
    "         nn.Linear(13  ,1)\n",
    "\n",
    "    )\n",
    "    \n",
    "    return seq_model\n",
    "    \n"
   ]
  },
  {
   "cell_type": "code",
   "execution_count": 52,
   "id": "92b6cfed",
   "metadata": {},
   "outputs": [],
   "source": [
    "\n",
    "## nn.ReLU()\n",
    "\n",
    "def model_deep_learning_3hidden():\n",
    "    \n",
    "    seq_model = nn.Sequential(\n",
    "        \n",
    "         nn.Linear(1 , 20),\n",
    "         nn.ReLU(),\n",
    "         nn.Linear(20  ,10),\n",
    "         nn.Tanh(),\n",
    "         nn.Linear(10  ,5),\n",
    "         nn.Tanh(),\n",
    "         nn.Linear(5 ,  1)\n",
    "\n",
    "    )\n",
    "    \n",
    "    return seq_model\n"
   ]
  },
  {
   "cell_type": "markdown",
   "id": "c42a4a12",
   "metadata": {},
   "source": [
    "## Function Calls"
   ]
  },
  {
   "cell_type": "code",
   "execution_count": 53,
   "id": "91ee0d0c",
   "metadata": {},
   "outputs": [],
   "source": [
    "\n",
    "## model = model_fn_linear()\n",
    "## model =  model_fn_nn_1hidden()\n",
    "model =  model_deep_learning_3hidden()\n",
    "\n",
    "optimizer = optim.Adam(model.parameters() , lr = 0.001)\n",
    "loss_fn = nn.MSELoss()\n",
    "\n"
   ]
  },
  {
   "cell_type": "code",
   "execution_count": 54,
   "id": "dd67af91",
   "metadata": {},
   "outputs": [
    {
     "name": "stdout",
     "output_type": "stream",
     "text": [
      "train loss:  78.58934020996094\n",
      "val loss:  215.1525115966797\n",
      "train loss:  48.62614440917969\n",
      "val loss:  167.4312286376953\n",
      "train loss:  31.004980087280273\n",
      "val loss:  130.8607940673828\n",
      "train loss:  18.87727928161621\n",
      "val loss:  104.89404296875\n",
      "train loss:  11.441737174987793\n",
      "val loss:  86.60350799560547\n",
      "train loss:  7.45806360244751\n",
      "val loss:  74.49284362792969\n",
      "train loss:  5.676608562469482\n",
      "val loss:  67.0584487915039\n",
      "train loss:  4.6386590003967285\n",
      "val loss:  59.22708511352539\n",
      "train loss:  3.5726938247680664\n",
      "val loss:  50.46974563598633\n",
      "train loss:  2.478032350540161\n",
      "val loss:  42.479862213134766\n",
      "train loss:  1.4935212135314941\n",
      "val loss:  35.71139144897461\n",
      "train loss:  0.788875937461853\n",
      "val loss:  30.15550422668457\n",
      "train loss:  0.4807080030441284\n",
      "val loss:  26.210769653320312\n",
      "train loss:  0.34020906686782837\n",
      "val loss:  23.60636329650879\n",
      "train loss:  0.292327880859375\n",
      "val loss:  22.191518783569336\n",
      "train loss:  0.3289414346218109\n",
      "val loss:  21.451568603515625\n",
      "train loss:  0.25725385546684265\n",
      "val loss:  21.19668197631836\n",
      "train loss:  0.29455503821372986\n",
      "val loss:  21.058992385864258\n",
      "train loss:  0.23836447298526764\n",
      "val loss:  21.040496826171875\n",
      "train loss:  0.31017938256263733\n",
      "val loss:  17.976655960083008\n",
      "train loss:  0.2601383924484253\n",
      "val loss:  17.891756057739258\n",
      "train loss:  0.2970856726169586\n",
      "val loss:  17.92752456665039\n",
      "train loss:  0.2755962312221527\n",
      "val loss:  17.972749710083008\n",
      "train loss:  0.27502501010894775\n",
      "val loss:  18.03553581237793\n",
      "train loss:  0.27437523007392883\n",
      "val loss:  18.121000289916992\n",
      "train loss:  0.27388307452201843\n",
      "val loss:  18.23058319091797\n",
      "train loss:  0.27325233817100525\n",
      "val loss:  18.36061668395996\n",
      "train loss:  0.27292418479919434\n",
      "val loss:  18.504690170288086\n",
      "train loss:  0.272401362657547\n",
      "val loss:  18.660499572753906\n",
      "train loss:  0.2721944749355316\n",
      "val loss:  18.811899185180664\n",
      "train loss:  0.27202701568603516\n",
      "val loss:  18.960317611694336\n",
      "train loss:  0.27152302861213684\n",
      "val loss:  19.10405921936035\n",
      "train loss:  0.2712799608707428\n",
      "val loss:  19.241914749145508\n",
      "train loss:  0.27152737975120544\n",
      "val loss:  19.373088836669922\n",
      "train loss:  0.27325639128685\n",
      "val loss:  19.497526168823242\n",
      "train loss:  0.2644962966442108\n",
      "val loss:  19.61320686340332\n",
      "train loss:  0.2866174876689911\n",
      "val loss:  19.723739624023438\n",
      "train loss:  0.2738814949989319\n",
      "val loss:  19.821842193603516\n",
      "train loss:  0.2673313021659851\n",
      "val loss:  19.914175033569336\n",
      "train loss:  0.2589118480682373\n",
      "val loss:  20.009496688842773\n",
      "train loss:  0.27052149176597595\n",
      "val loss:  20.089282989501953\n",
      "train loss:  0.25307801365852356\n",
      "val loss:  20.174543380737305\n",
      "train loss:  0.2576662302017212\n",
      "val loss:  20.24818992614746\n",
      "train loss:  0.25449517369270325\n",
      "val loss:  20.315946578979492\n",
      "train loss:  0.2541089951992035\n",
      "val loss:  20.37765884399414\n",
      "train loss:  0.2546350657939911\n",
      "val loss:  20.448623657226562\n",
      "train loss:  0.2654883861541748\n",
      "val loss:  20.49302864074707\n",
      "train loss:  0.26465409994125366\n",
      "val loss:  20.56049156188965\n",
      "train loss:  0.25579968094825745\n",
      "val loss:  20.61139488220215\n",
      "train loss:  0.3133893609046936\n",
      "val loss:  20.66343116760254\n",
      "train loss:  0.25223782658576965\n",
      "val loss:  20.714895248413086\n",
      "train loss:  0.28782424330711365\n",
      "val loss:  20.761465072631836\n",
      "train loss:  0.25565510988235474\n",
      "val loss:  20.79984474182129\n",
      "train loss:  0.2603926360607147\n",
      "val loss:  20.862855911254883\n",
      "train loss:  0.2633803188800812\n",
      "val loss:  20.893144607543945\n",
      "train loss:  0.304494172334671\n",
      "val loss:  20.925798416137695\n",
      "train loss:  0.2571304142475128\n",
      "val loss:  20.92918586730957\n",
      "train loss:  0.3234376609325409\n",
      "val loss:  20.942367553710938\n",
      "train loss:  0.25421324372291565\n",
      "val loss:  21.799537658691406\n"
     ]
    }
   ],
   "source": [
    "\n",
    "result = training_loop(\n",
    "            n_epochs = 30000,\n",
    "            optimizer = optimizer,\n",
    "            model = model,\n",
    "            loss_fn = loss_fn,\n",
    "            train_t_u = train_t_u,\n",
    "            val_t_u   = val_t_u,\n",
    "            train_t_c = train_t_c,\n",
    "            val_t_c   = val_t_c\n",
    ")"
   ]
  },
  {
   "cell_type": "code",
   "execution_count": 47,
   "id": "e0657cab",
   "metadata": {},
   "outputs": [
    {
     "data": {
      "text/plain": [
       "tensor([[ 0.6733],\n",
       "        [26.5154],\n",
       "        [12.7329]], grad_fn=<AddmmBackward0>)"
      ]
     },
     "execution_count": 47,
     "metadata": {},
     "output_type": "execute_result"
    }
   ],
   "source": [
    "## celsius from fehrenheit\n",
    "## 100 c = 212 f \n",
    "\n",
    "\n",
    "my_temp = model(val_t_u)\n",
    "\n",
    "my_temp"
   ]
  },
  {
   "cell_type": "code",
   "execution_count": 48,
   "id": "1ada7f79",
   "metadata": {},
   "outputs": [
    {
     "name": "stdout",
     "output_type": "stream",
     "text": [
      "tensor([[ 3.],\n",
      "        [28.],\n",
      "        [11.]])\n"
     ]
    }
   ],
   "source": [
    "print(val_t_c)"
   ]
  },
  {
   "cell_type": "code",
   "execution_count": 51,
   "id": "f53f61ef",
   "metadata": {},
   "outputs": [
    {
     "data": {
      "text/plain": [
       "tensor([[ 0.4482],\n",
       "        [34.1496],\n",
       "        [14.5295]], grad_fn=<AddmmBackward0>)"
      ]
     },
     "execution_count": 51,
     "metadata": {},
     "output_type": "execute_result"
    }
   ],
   "source": [
    "my_temp = model(val_t_u)\n",
    "\n",
    "my_temp"
   ]
  },
  {
   "cell_type": "code",
   "execution_count": 55,
   "id": "f13abc7e",
   "metadata": {},
   "outputs": [
    {
     "data": {
      "text/plain": [
       "tensor([[ 0.4378],\n",
       "        [21.5400],\n",
       "        [14.5392]], grad_fn=<AddmmBackward0>)"
      ]
     },
     "execution_count": 55,
     "metadata": {},
     "output_type": "execute_result"
    }
   ],
   "source": [
    "my_temp = model(val_t_u)\n",
    "\n",
    "my_temp"
   ]
  },
  {
   "cell_type": "code",
   "execution_count": null,
   "id": "64eaf022",
   "metadata": {},
   "outputs": [],
   "source": []
  }
 ],
 "metadata": {
  "kernelspec": {
   "display_name": "Python 3 (ipykernel)",
   "language": "python",
   "name": "python3"
  },
  "language_info": {
   "codemirror_mode": {
    "name": "ipython",
    "version": 3
   },
   "file_extension": ".py",
   "mimetype": "text/x-python",
   "name": "python",
   "nbconvert_exporter": "python",
   "pygments_lexer": "ipython3",
   "version": "3.8.13"
  }
 },
 "nbformat": 4,
 "nbformat_minor": 5
}
